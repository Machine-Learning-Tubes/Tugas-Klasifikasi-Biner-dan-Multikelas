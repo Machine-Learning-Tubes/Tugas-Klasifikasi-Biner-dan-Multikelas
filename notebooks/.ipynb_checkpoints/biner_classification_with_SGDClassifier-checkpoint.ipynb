{
 "cells": [
  {
   "cell_type": "markdown",
   "metadata": {},
   "source": [
    "# Import Modules"
   ]
  },
  {
   "cell_type": "code",
   "execution_count": 1,
   "metadata": {
    "ExecuteTime": {
     "end_time": "2021-03-07T01:59:07.618059Z",
     "start_time": "2021-03-07T01:59:05.433648Z"
    }
   },
   "outputs": [],
   "source": [
    "import numpy as np\n",
    "import pandas as pd\n",
    "import matplotlib.pyplot as plt\n",
    "\n",
    "from sklearn.metrics import f1_score\n",
    "from sklearn.metrics import confusion_matrix\n",
    "from sklearn.linear_model import SGDClassifier\n",
    "from sklearn.metrics import precision_recall_curve\n",
    "from sklearn.model_selection import cross_val_score\n",
    "from sklearn.model_selection import cross_val_predict\n",
    "from sklearn.metrics import precision_score, recall_score"
   ]
  },
  {
   "cell_type": "markdown",
   "metadata": {},
   "source": [
    "# Initialize and load dataset"
   ]
  },
  {
   "cell_type": "code",
   "execution_count": 2,
   "metadata": {
    "ExecuteTime": {
     "end_time": "2021-03-07T01:59:07.666733Z",
     "start_time": "2021-03-07T01:59:07.626686Z"
    }
   },
   "outputs": [],
   "source": [
    "train = pd.read_csv('../dataset/biner_classification/train_1.csv')\n",
    "test  = pd.read_csv('../dataset/biner_classification/test_1.csv')"
   ]
  },
  {
   "cell_type": "code",
   "execution_count": 3,
   "metadata": {
    "ExecuteTime": {
     "end_time": "2021-03-07T01:59:07.713424Z",
     "start_time": "2021-03-07T01:59:07.685635Z"
    }
   },
   "outputs": [
    {
     "data": {
      "text/plain": [
       "Index(['invoice_id', 'branch', 'city', 'gender', 'product_line', 'unit_price',\n",
       "       'quantity', 'tax_5_percents', 'total', 'payment', 'cogs',\n",
       "       'gross_margin_percentage', 'gross_income', 'rating', 'month', 'day',\n",
       "       'year', 'hours', 'minutes', 'customer_type'],\n",
       "      dtype='object')"
      ]
     },
     "execution_count": 3,
     "metadata": {},
     "output_type": "execute_result"
    }
   ],
   "source": [
    "train.columns"
   ]
  },
  {
   "cell_type": "code",
   "execution_count": 4,
   "metadata": {
    "ExecuteTime": {
     "end_time": "2021-03-07T01:59:07.760870Z",
     "start_time": "2021-03-07T01:59:07.715223Z"
    }
   },
   "outputs": [
    {
     "data": {
      "text/html": [
       "<div>\n",
       "<style scoped>\n",
       "    .dataframe tbody tr th:only-of-type {\n",
       "        vertical-align: middle;\n",
       "    }\n",
       "\n",
       "    .dataframe tbody tr th {\n",
       "        vertical-align: top;\n",
       "    }\n",
       "\n",
       "    .dataframe thead th {\n",
       "        text-align: right;\n",
       "    }\n",
       "</style>\n",
       "<table border=\"1\" class=\"dataframe\">\n",
       "  <thead>\n",
       "    <tr style=\"text-align: right;\">\n",
       "      <th></th>\n",
       "      <th>invoice_id</th>\n",
       "      <th>branch</th>\n",
       "      <th>city</th>\n",
       "      <th>gender</th>\n",
       "      <th>product_line</th>\n",
       "      <th>unit_price</th>\n",
       "      <th>quantity</th>\n",
       "      <th>tax_5_percents</th>\n",
       "      <th>total</th>\n",
       "      <th>payment</th>\n",
       "      <th>cogs</th>\n",
       "      <th>gross_margin_percentage</th>\n",
       "      <th>gross_income</th>\n",
       "      <th>rating</th>\n",
       "      <th>month</th>\n",
       "      <th>day</th>\n",
       "      <th>year</th>\n",
       "      <th>hours</th>\n",
       "      <th>minutes</th>\n",
       "      <th>customer_type</th>\n",
       "    </tr>\n",
       "  </thead>\n",
       "  <tbody>\n",
       "    <tr>\n",
       "      <th>0</th>\n",
       "      <td>848-62-7243</td>\n",
       "      <td>0</td>\n",
       "      <td>2</td>\n",
       "      <td>1</td>\n",
       "      <td>3</td>\n",
       "      <td>24.89</td>\n",
       "      <td>9</td>\n",
       "      <td>11.2005</td>\n",
       "      <td>235.2105</td>\n",
       "      <td>0</td>\n",
       "      <td>224.01</td>\n",
       "      <td>4.761905</td>\n",
       "      <td>11.2005</td>\n",
       "      <td>7.4</td>\n",
       "      <td>3</td>\n",
       "      <td>15</td>\n",
       "      <td>2019</td>\n",
       "      <td>15</td>\n",
       "      <td>36</td>\n",
       "      <td>0</td>\n",
       "    </tr>\n",
       "    <tr>\n",
       "      <th>1</th>\n",
       "      <td>583-41-4548</td>\n",
       "      <td>2</td>\n",
       "      <td>1</td>\n",
       "      <td>1</td>\n",
       "      <td>4</td>\n",
       "      <td>16.67</td>\n",
       "      <td>7</td>\n",
       "      <td>5.8345</td>\n",
       "      <td>122.5245</td>\n",
       "      <td>2</td>\n",
       "      <td>116.69</td>\n",
       "      <td>4.761905</td>\n",
       "      <td>5.8345</td>\n",
       "      <td>7.4</td>\n",
       "      <td>2</td>\n",
       "      <td>7</td>\n",
       "      <td>2019</td>\n",
       "      <td>11</td>\n",
       "      <td>36</td>\n",
       "      <td>0</td>\n",
       "    </tr>\n",
       "    <tr>\n",
       "      <th>2</th>\n",
       "      <td>800-09-8606</td>\n",
       "      <td>0</td>\n",
       "      <td>2</td>\n",
       "      <td>0</td>\n",
       "      <td>4</td>\n",
       "      <td>87.37</td>\n",
       "      <td>5</td>\n",
       "      <td>21.8425</td>\n",
       "      <td>458.6925</td>\n",
       "      <td>0</td>\n",
       "      <td>436.85</td>\n",
       "      <td>4.761905</td>\n",
       "      <td>21.8425</td>\n",
       "      <td>6.6</td>\n",
       "      <td>1</td>\n",
       "      <td>29</td>\n",
       "      <td>2019</td>\n",
       "      <td>19</td>\n",
       "      <td>45</td>\n",
       "      <td>1</td>\n",
       "    </tr>\n",
       "    <tr>\n",
       "      <th>3</th>\n",
       "      <td>283-26-5248</td>\n",
       "      <td>2</td>\n",
       "      <td>1</td>\n",
       "      <td>0</td>\n",
       "      <td>2</td>\n",
       "      <td>98.52</td>\n",
       "      <td>10</td>\n",
       "      <td>49.2600</td>\n",
       "      <td>1034.4600</td>\n",
       "      <td>2</td>\n",
       "      <td>985.20</td>\n",
       "      <td>4.761905</td>\n",
       "      <td>49.2600</td>\n",
       "      <td>4.5</td>\n",
       "      <td>1</td>\n",
       "      <td>30</td>\n",
       "      <td>2019</td>\n",
       "      <td>20</td>\n",
       "      <td>23</td>\n",
       "      <td>1</td>\n",
       "    </tr>\n",
       "    <tr>\n",
       "      <th>4</th>\n",
       "      <td>288-62-1085</td>\n",
       "      <td>0</td>\n",
       "      <td>2</td>\n",
       "      <td>1</td>\n",
       "      <td>1</td>\n",
       "      <td>38.54</td>\n",
       "      <td>5</td>\n",
       "      <td>9.6350</td>\n",
       "      <td>202.3350</td>\n",
       "      <td>2</td>\n",
       "      <td>192.70</td>\n",
       "      <td>4.761905</td>\n",
       "      <td>9.6350</td>\n",
       "      <td>5.6</td>\n",
       "      <td>1</td>\n",
       "      <td>9</td>\n",
       "      <td>2019</td>\n",
       "      <td>13</td>\n",
       "      <td>34</td>\n",
       "      <td>1</td>\n",
       "    </tr>\n",
       "  </tbody>\n",
       "</table>\n",
       "</div>"
      ],
      "text/plain": [
       "    invoice_id  branch  city  gender  product_line  unit_price  quantity  \\\n",
       "0  848-62-7243       0     2       1             3       24.89         9   \n",
       "1  583-41-4548       2     1       1             4       16.67         7   \n",
       "2  800-09-8606       0     2       0             4       87.37         5   \n",
       "3  283-26-5248       2     1       0             2       98.52        10   \n",
       "4  288-62-1085       0     2       1             1       38.54         5   \n",
       "\n",
       "   tax_5_percents      total  payment    cogs  gross_margin_percentage  \\\n",
       "0         11.2005   235.2105        0  224.01                 4.761905   \n",
       "1          5.8345   122.5245        2  116.69                 4.761905   \n",
       "2         21.8425   458.6925        0  436.85                 4.761905   \n",
       "3         49.2600  1034.4600        2  985.20                 4.761905   \n",
       "4          9.6350   202.3350        2  192.70                 4.761905   \n",
       "\n",
       "   gross_income  rating  month  day  year  hours  minutes  customer_type  \n",
       "0       11.2005     7.4      3   15  2019     15       36              0  \n",
       "1        5.8345     7.4      2    7  2019     11       36              0  \n",
       "2       21.8425     6.6      1   29  2019     19       45              1  \n",
       "3       49.2600     4.5      1   30  2019     20       23              1  \n",
       "4        9.6350     5.6      1    9  2019     13       34              1  "
      ]
     },
     "execution_count": 4,
     "metadata": {},
     "output_type": "execute_result"
    }
   ],
   "source": [
    "train.head()"
   ]
  },
  {
   "cell_type": "markdown",
   "metadata": {},
   "source": [
    "## Set feature and target to train and test dataset"
   ]
  },
  {
   "cell_type": "code",
   "execution_count": 5,
   "metadata": {
    "ExecuteTime": {
     "end_time": "2021-03-07T01:59:07.776168Z",
     "start_time": "2021-03-07T01:59:07.762991Z"
    }
   },
   "outputs": [],
   "source": [
    "X_train = train.loc[:, ['branch', 'city', 'gender', 'product_line', 'unit_price',\n",
    "       'quantity', 'tax_5_percents', 'total', 'payment', 'cogs',\n",
    "       'gross_margin_percentage', 'gross_income', 'rating', 'month', 'day',\n",
    "       'year', 'hours', 'minutes']]\n",
    "y_train = train.iloc[:, 19:20]"
   ]
  },
  {
   "cell_type": "code",
   "execution_count": 6,
   "metadata": {
    "ExecuteTime": {
     "end_time": "2021-03-07T01:59:07.807475Z",
     "start_time": "2021-03-07T01:59:07.781777Z"
    }
   },
   "outputs": [],
   "source": [
    "X_test = test.loc[:, ['branch', 'city', 'gender', 'product_line', 'unit_price',\n",
    "       'quantity', 'tax_5_percents', 'total', 'payment', 'cogs',\n",
    "       'gross_margin_percentage', 'gross_income', 'rating', 'month', 'day',\n",
    "       'year', 'hours', 'minutes']]\n",
    "y_test = test.iloc[:, 19:20]"
   ]
  },
  {
   "cell_type": "markdown",
   "metadata": {},
   "source": [
    "# Biner Classification with SGDClassifier "
   ]
  },
  {
   "cell_type": "markdown",
   "metadata": {},
   "source": [
    "## Prepare Model"
   ]
  },
  {
   "cell_type": "code",
   "execution_count": 7,
   "metadata": {
    "ExecuteTime": {
     "end_time": "2021-03-07T01:59:07.823362Z",
     "start_time": "2021-03-07T01:59:07.810663Z"
    }
   },
   "outputs": [],
   "source": [
    "biner_classification = SGDClassifier(max_iter=1000, tol=1e-3, alpha=0.0001, random_state=42)"
   ]
  },
  {
   "cell_type": "code",
   "execution_count": 8,
   "metadata": {
    "ExecuteTime": {
     "end_time": "2021-03-07T01:59:07.855023Z",
     "start_time": "2021-03-07T01:59:07.826364Z"
    }
   },
   "outputs": [
    {
     "data": {
      "text/plain": [
       "SGDClassifier(random_state=42)"
      ]
     },
     "execution_count": 8,
     "metadata": {},
     "output_type": "execute_result"
    }
   ],
   "source": [
    "biner_classification.fit(X_train, np.ravel(y_train))"
   ]
  },
  {
   "cell_type": "code",
   "execution_count": 9,
   "metadata": {
    "ExecuteTime": {
     "end_time": "2021-03-07T01:59:07.870254Z",
     "start_time": "2021-03-07T01:59:07.856804Z"
    }
   },
   "outputs": [
    {
     "data": {
      "text/plain": [
       "0.49"
      ]
     },
     "execution_count": 9,
     "metadata": {},
     "output_type": "execute_result"
    }
   ],
   "source": [
    "biner_classification.score(X_test, y_test)"
   ]
  },
  {
   "cell_type": "markdown",
   "metadata": {},
   "source": [
    "## Train with 3-Folds Cross Validation"
   ]
  },
  {
   "cell_type": "code",
   "execution_count": 26,
   "metadata": {
    "ExecuteTime": {
     "end_time": "2021-03-07T02:11:38.466609Z",
     "start_time": "2021-03-07T02:11:38.391541Z"
    }
   },
   "outputs": [
    {
     "data": {
      "text/plain": [
       "array([0.50561798, 0.51685393, 0.47744361])"
      ]
     },
     "execution_count": 26,
     "metadata": {},
     "output_type": "execute_result"
    }
   ],
   "source": [
    "cross_val_score(biner_classification, X_train, np.ravel(y_train), cv=3, scoring=\"accuracy\")"
   ]
  },
  {
   "cell_type": "markdown",
   "metadata": {},
   "source": [
    "# Evaluate with Precision, Recall, & F1-Measure"
   ]
  },
  {
   "cell_type": "code",
   "execution_count": 11,
   "metadata": {
    "ExecuteTime": {
     "end_time": "2021-03-07T01:59:07.977881Z",
     "start_time": "2021-03-07T01:59:07.934766Z"
    }
   },
   "outputs": [],
   "source": [
    "y_train_pred = cross_val_predict(biner_classification, X_train, np.ravel(y_train), cv=3)"
   ]
  },
  {
   "cell_type": "code",
   "execution_count": 12,
   "metadata": {
    "ExecuteTime": {
     "end_time": "2021-03-07T01:59:07.993357Z",
     "start_time": "2021-03-07T01:59:07.980770Z"
    }
   },
   "outputs": [
    {
     "data": {
      "text/plain": [
       "array([[ 26, 370],\n",
       "       [ 30, 374]], dtype=int64)"
      ]
     },
     "execution_count": 12,
     "metadata": {},
     "output_type": "execute_result"
    }
   ],
   "source": [
    "confusion_matrix(np.ravel(y_train), y_train_pred)"
   ]
  },
  {
   "cell_type": "code",
   "execution_count": 13,
   "metadata": {
    "ExecuteTime": {
     "end_time": "2021-03-07T01:59:08.025131Z",
     "start_time": "2021-03-07T01:59:07.996428Z"
    }
   },
   "outputs": [
    {
     "name": "stdout",
     "output_type": "stream",
     "text": [
      "True positive  : 374\n",
      "True negative  : 26\n",
      "False positive : 370\n",
      "False negative : 30\n"
     ]
    }
   ],
   "source": [
    "print(f'True positive  : {confusion_matrix(np.ravel(y_train), y_train_pred)[1, 1]}')\n",
    "print(f'True negative  : {confusion_matrix(np.ravel(y_train), y_train_pred)[0, 0]}')\n",
    "print(f'False positive : {confusion_matrix(np.ravel(y_train), y_train_pred)[0, 1]}')\n",
    "print(f'False negative : {confusion_matrix(np.ravel(y_train), y_train_pred)[1, 0]}')"
   ]
  },
  {
   "cell_type": "markdown",
   "metadata": {},
   "source": [
    "## Perfect Prediction"
   ]
  },
  {
   "cell_type": "code",
   "execution_count": 14,
   "metadata": {
    "ExecuteTime": {
     "end_time": "2021-03-07T01:59:08.040283Z",
     "start_time": "2021-03-07T01:59:08.027825Z"
    }
   },
   "outputs": [
    {
     "data": {
      "text/plain": [
       "array([[396,   0],\n",
       "       [  0, 404]], dtype=int64)"
      ]
     },
     "execution_count": 14,
     "metadata": {},
     "output_type": "execute_result"
    }
   ],
   "source": [
    "y_train_perfect_predictions = np.ravel(y_train)\n",
    "confusion_matrix(np.ravel(y_train), y_train_perfect_predictions)"
   ]
  },
  {
   "cell_type": "code",
   "execution_count": 15,
   "metadata": {
    "ExecuteTime": {
     "end_time": "2021-03-07T01:59:08.071544Z",
     "start_time": "2021-03-07T01:59:08.043365Z"
    }
   },
   "outputs": [
    {
     "name": "stdout",
     "output_type": "stream",
     "text": [
      "True positive  : 404\n",
      "True negative  : 396\n",
      "False positive : 0\n",
      "False negative : 0\n"
     ]
    }
   ],
   "source": [
    "print(f'True positive  : {confusion_matrix(np.ravel(y_train), y_train_perfect_predictions)[1, 1]}')\n",
    "print(f'True negative  : {confusion_matrix(np.ravel(y_train), y_train_perfect_predictions)[0, 0]}')\n",
    "print(f'False positive : {confusion_matrix(np.ravel(y_train), y_train_perfect_predictions)[0, 1]}')\n",
    "print(f'False negative : {confusion_matrix(np.ravel(y_train), y_train_perfect_predictions)[1, 0]}')"
   ]
  },
  {
   "cell_type": "markdown",
   "metadata": {},
   "source": [
    "## Precision"
   ]
  },
  {
   "cell_type": "code",
   "execution_count": 16,
   "metadata": {
    "ExecuteTime": {
     "end_time": "2021-03-07T01:59:08.087820Z",
     "start_time": "2021-03-07T01:59:08.074506Z"
    }
   },
   "outputs": [
    {
     "data": {
      "text/plain": [
       "0.5026881720430108"
      ]
     },
     "execution_count": 16,
     "metadata": {},
     "output_type": "execute_result"
    }
   ],
   "source": [
    "precision_score(np.ravel(y_train), y_train_pred)"
   ]
  },
  {
   "cell_type": "markdown",
   "metadata": {
    "ExecuteTime": {
     "end_time": "2021-03-06T13:51:06.555504Z",
     "start_time": "2021-03-06T13:51:06.539884Z"
    }
   },
   "source": [
    "## Recall"
   ]
  },
  {
   "cell_type": "code",
   "execution_count": 17,
   "metadata": {
    "ExecuteTime": {
     "end_time": "2021-03-07T01:59:08.103249Z",
     "start_time": "2021-03-07T01:59:08.091843Z"
    }
   },
   "outputs": [
    {
     "data": {
      "text/plain": [
       "0.9257425742574258"
      ]
     },
     "execution_count": 17,
     "metadata": {},
     "output_type": "execute_result"
    }
   ],
   "source": [
    "recall_score(np.ravel(y_train), y_train_pred)"
   ]
  },
  {
   "cell_type": "markdown",
   "metadata": {},
   "source": [
    "## F-1 Score"
   ]
  },
  {
   "cell_type": "code",
   "execution_count": 18,
   "metadata": {
    "ExecuteTime": {
     "end_time": "2021-03-07T01:59:08.134917Z",
     "start_time": "2021-03-07T01:59:08.106257Z"
    }
   },
   "outputs": [
    {
     "data": {
      "text/plain": [
       "0.6515679442508711"
      ]
     },
     "execution_count": 18,
     "metadata": {},
     "output_type": "execute_result"
    }
   ],
   "source": [
    "f1_score(np.ravel(y_train), y_train_pred)"
   ]
  },
  {
   "cell_type": "markdown",
   "metadata": {},
   "source": [
    "# Precision-Recall Tradeoff"
   ]
  },
  {
   "cell_type": "code",
   "execution_count": 19,
   "metadata": {
    "ExecuteTime": {
     "end_time": "2021-03-07T01:59:08.181659Z",
     "start_time": "2021-03-07T01:59:08.137154Z"
    }
   },
   "outputs": [],
   "source": [
    "y_scores = cross_val_predict(biner_classification, X_train, np.ravel(y_train), cv=3, method=\"decision_function\")"
   ]
  },
  {
   "cell_type": "code",
   "execution_count": 20,
   "metadata": {
    "ExecuteTime": {
     "end_time": "2021-03-07T01:59:08.198364Z",
     "start_time": "2021-03-07T01:59:08.184471Z"
    }
   },
   "outputs": [],
   "source": [
    "precisions, recalls, thresholds = precision_recall_curve(y_train, y_scores)"
   ]
  },
  {
   "cell_type": "code",
   "execution_count": 22,
   "metadata": {
    "ExecuteTime": {
     "end_time": "2021-03-07T02:03:03.094419Z",
     "start_time": "2021-03-07T02:03:02.655543Z"
    }
   },
   "outputs": [
    {
     "data": {
      "image/png": "[encoded data removed]",
      "text/plain": [
       "<Figure size 576x288 with 1 Axes>"
      ]
     },
     "metadata": {
      "needs_background": "light"
     },
     "output_type": "display_data"
    }
   ],
   "source": [
    "def plot_precision_recall_vs_threshold(precisions, recalls, thresholds):\n",
    "    plt.plot(thresholds, precisions[:-1], \"b--\", label=\"Precision\", linewidth=2)\n",
    "    plt.plot(thresholds, recalls[:-1], \"g-\", label=\"Recall\", linewidth=2)\n",
    "    plt.legend(loc=\"center right\", fontsize=16) # Not shown in the book\n",
    "    plt.xlabel(\"Threshold\")        # Not shown\n",
    "    plt.ylabel('Percentage in Percent')\n",
    "    plt.grid(True)                              # Not shown\n",
    "    plt.axis([-50000, 50000, 0, 1])             # Not shown\n",
    "\n",
    "plt.figure(figsize=(8, 4))                      # Not shown\n",
    "plt.title('Precision Recall VS Threshold Plot')\n",
    "plot_precision_recall_vs_threshold(precisions, recalls, thresholds)\n",
    "plt.plot([7813, 7813], [0., 0.9], \"r:\")         # Not shown\n",
    "plt.plot([-50000, 7813], [0.9, 0.9], \"r:\")      # Not shown\n",
    "plt.plot([-50000, 7813], [0.4368, 0.4368], \"r:\")# Not shown\n",
    "plt.plot([7813], [0.9], \"ro\")                   # Not shown\n",
    "plt.plot([7813], [0.4368], \"ro\")                # Not shown\n",
    "\n",
    "plt.show()"
   ]
  },
  {
   "cell_type": "markdown",
   "metadata": {},
   "source": [
    "# Notes\n",
    "Kemungkinan penyebab akurasi, recall, presisi, dan F-1 score rendah, antara lain:\n",
    "- Jumlah dataset kurang, sekarang menggunakan 1000 cases\n",
    "- Jumlah fitur yang kurang (recall naik, setelah fitur date dan time di encoder label)\n",
    "- Proporsi kelas pada train dan test tidak sama (Bukan penyebab, sudah dicek)\n",
    "- Hubungan antar fitur tidak kuat (bisa lihat heatmap correlation)\n"
   ]
  }
 ],
 "metadata": {
  "kernelspec": {
   "display_name": "Python 3",
   "language": "python",
   "name": "python3"
  },
  "language_info": {
   "codemirror_mode": {
    "name": "ipython",
    "version": 3
   },
   "file_extension": ".py",
   "mimetype": "text/x-python",
   "name": "python",
   "nbconvert_exporter": "python",
   "pygments_lexer": "ipython3",
   "version": "3.8.5"
  },
  "toc": {
   "base_numbering": 1,
   "nav_menu": {},
   "number_sections": true,
   "sideBar": true,
   "skip_h1_title": false,
   "title_cell": "Table of Contents",
   "title_sidebar": "Contents",
   "toc_cell": false,
   "toc_position": {},
   "toc_section_display": true,
   "toc_window_display": true
  }
 },
 "nbformat": 4,
 "nbformat_minor": 4
}
