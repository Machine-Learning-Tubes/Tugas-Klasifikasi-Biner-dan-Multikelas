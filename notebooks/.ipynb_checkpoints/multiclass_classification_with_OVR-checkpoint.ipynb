{
 "cells": [
  {
   "cell_type": "markdown",
   "metadata": {
    "ExecuteTime": {
     "end_time": "2021-03-10T08:45:49.731679Z",
     "start_time": "2021-03-10T08:45:49.716032Z"
    }
   },
   "source": [
    "# Import Modules"
   ]
  },
  {
   "cell_type": "code",
   "execution_count": 1,
   "metadata": {
    "ExecuteTime": {
     "end_time": "2021-03-10T12:07:03.854677Z",
     "start_time": "2021-03-10T12:07:00.648109Z"
    }
   },
   "outputs": [],
   "source": [
    "import numpy as np\n",
    "import pandas as pd\n",
    "\n",
    "from sklearn.svm import SVC\n",
    "from sklearn.linear_model import LogisticRegression\n",
    "from sklearn.multiclass import OneVsRestClassifier\n",
    "from sklearn.model_selection import cross_val_score, cross_val_predict\n",
    "from sklearn.metrics import confusion_matrix, accuracy_score, precision_score, recall_score, f1_score, classification_report, precision_recall_curve"
   ]
  },
  {
   "cell_type": "markdown",
   "metadata": {
    "ExecuteTime": {
     "end_time": "2021-03-10T08:46:12.600837Z",
     "start_time": "2021-03-10T08:46:12.578644Z"
    }
   },
   "source": [
    "# Initialize and load dataset"
   ]
  },
  {
   "cell_type": "code",
   "execution_count": 2,
   "metadata": {
    "ExecuteTime": {
     "end_time": "2021-03-10T12:07:03.901994Z",
     "start_time": "2021-03-10T12:07:03.858152Z"
    }
   },
   "outputs": [],
   "source": [
    "train = pd.read_csv('../dataset/multiclass_classification/train.csv')\n",
    "test  = pd.read_csv('../dataset/multiclass_classification/test.csv')"
   ]
  },
  {
   "cell_type": "markdown",
   "metadata": {},
   "source": [
    "# Show in table"
   ]
  },
  {
   "cell_type": "markdown",
   "metadata": {},
   "source": [
    "## Train dataset"
   ]
  },
  {
   "cell_type": "code",
   "execution_count": 3,
   "metadata": {
    "ExecuteTime": {
     "end_time": "2021-03-10T12:07:03.917306Z",
     "start_time": "2021-03-10T12:07:03.904373Z"
    }
   },
   "outputs": [
    {
     "name": "stdout",
     "output_type": "stream",
     "text": [
      "Number of row    : 800\n",
      "Number of column : 20\n"
     ]
    }
   ],
   "source": [
    "print(f'Number of row    : { train.shape[0] }')\n",
    "print(f'Number of column : { train.shape[1] }')"
   ]
  },
  {
   "cell_type": "code",
   "execution_count": 4,
   "metadata": {
    "ExecuteTime": {
     "end_time": "2021-03-10T12:07:03.964774Z",
     "start_time": "2021-03-10T12:07:03.920371Z"
    }
   },
   "outputs": [
    {
     "data": {
      "text/html": [
       "<div>\n",
       "<style scoped>\n",
       "    .dataframe tbody tr th:only-of-type {\n",
       "        vertical-align: middle;\n",
       "    }\n",
       "\n",
       "    .dataframe tbody tr th {\n",
       "        vertical-align: top;\n",
       "    }\n",
       "\n",
       "    .dataframe thead th {\n",
       "        text-align: right;\n",
       "    }\n",
       "</style>\n",
       "<table border=\"1\" class=\"dataframe\">\n",
       "  <thead>\n",
       "    <tr style=\"text-align: right;\">\n",
       "      <th></th>\n",
       "      <th>invoice_id</th>\n",
       "      <th>branch</th>\n",
       "      <th>city</th>\n",
       "      <th>customer_type</th>\n",
       "      <th>gender</th>\n",
       "      <th>unit_price</th>\n",
       "      <th>quantity</th>\n",
       "      <th>tax_5_percents</th>\n",
       "      <th>total</th>\n",
       "      <th>month</th>\n",
       "      <th>day</th>\n",
       "      <th>year</th>\n",
       "      <th>hours</th>\n",
       "      <th>minutes</th>\n",
       "      <th>payment</th>\n",
       "      <th>cogs</th>\n",
       "      <th>gross_margin_percentage</th>\n",
       "      <th>gross_income</th>\n",
       "      <th>rating</th>\n",
       "      <th>product_line</th>\n",
       "    </tr>\n",
       "  </thead>\n",
       "  <tbody>\n",
       "    <tr>\n",
       "      <th>0</th>\n",
       "      <td>848-62-7243</td>\n",
       "      <td>0</td>\n",
       "      <td>2</td>\n",
       "      <td>0</td>\n",
       "      <td>1</td>\n",
       "      <td>24.89</td>\n",
       "      <td>9</td>\n",
       "      <td>11.2005</td>\n",
       "      <td>235.2105</td>\n",
       "      <td>3</td>\n",
       "      <td>15</td>\n",
       "      <td>2019</td>\n",
       "      <td>15</td>\n",
       "      <td>36</td>\n",
       "      <td>0</td>\n",
       "      <td>224.01</td>\n",
       "      <td>4.761905</td>\n",
       "      <td>11.2005</td>\n",
       "      <td>7.4</td>\n",
       "      <td>3</td>\n",
       "    </tr>\n",
       "    <tr>\n",
       "      <th>1</th>\n",
       "      <td>583-41-4548</td>\n",
       "      <td>2</td>\n",
       "      <td>1</td>\n",
       "      <td>0</td>\n",
       "      <td>1</td>\n",
       "      <td>16.67</td>\n",
       "      <td>7</td>\n",
       "      <td>5.8345</td>\n",
       "      <td>122.5245</td>\n",
       "      <td>2</td>\n",
       "      <td>7</td>\n",
       "      <td>2019</td>\n",
       "      <td>11</td>\n",
       "      <td>36</td>\n",
       "      <td>2</td>\n",
       "      <td>116.69</td>\n",
       "      <td>4.761905</td>\n",
       "      <td>5.8345</td>\n",
       "      <td>7.4</td>\n",
       "      <td>4</td>\n",
       "    </tr>\n",
       "    <tr>\n",
       "      <th>2</th>\n",
       "      <td>800-09-8606</td>\n",
       "      <td>0</td>\n",
       "      <td>2</td>\n",
       "      <td>1</td>\n",
       "      <td>0</td>\n",
       "      <td>87.37</td>\n",
       "      <td>5</td>\n",
       "      <td>21.8425</td>\n",
       "      <td>458.6925</td>\n",
       "      <td>1</td>\n",
       "      <td>29</td>\n",
       "      <td>2019</td>\n",
       "      <td>19</td>\n",
       "      <td>45</td>\n",
       "      <td>0</td>\n",
       "      <td>436.85</td>\n",
       "      <td>4.761905</td>\n",
       "      <td>21.8425</td>\n",
       "      <td>6.6</td>\n",
       "      <td>4</td>\n",
       "    </tr>\n",
       "    <tr>\n",
       "      <th>3</th>\n",
       "      <td>283-26-5248</td>\n",
       "      <td>2</td>\n",
       "      <td>1</td>\n",
       "      <td>1</td>\n",
       "      <td>0</td>\n",
       "      <td>98.52</td>\n",
       "      <td>10</td>\n",
       "      <td>49.2600</td>\n",
       "      <td>1034.4600</td>\n",
       "      <td>1</td>\n",
       "      <td>30</td>\n",
       "      <td>2019</td>\n",
       "      <td>20</td>\n",
       "      <td>23</td>\n",
       "      <td>2</td>\n",
       "      <td>985.20</td>\n",
       "      <td>4.761905</td>\n",
       "      <td>49.2600</td>\n",
       "      <td>4.5</td>\n",
       "      <td>2</td>\n",
       "    </tr>\n",
       "    <tr>\n",
       "      <th>4</th>\n",
       "      <td>288-62-1085</td>\n",
       "      <td>0</td>\n",
       "      <td>2</td>\n",
       "      <td>1</td>\n",
       "      <td>1</td>\n",
       "      <td>38.54</td>\n",
       "      <td>5</td>\n",
       "      <td>9.6350</td>\n",
       "      <td>202.3350</td>\n",
       "      <td>1</td>\n",
       "      <td>9</td>\n",
       "      <td>2019</td>\n",
       "      <td>13</td>\n",
       "      <td>34</td>\n",
       "      <td>2</td>\n",
       "      <td>192.70</td>\n",
       "      <td>4.761905</td>\n",
       "      <td>9.6350</td>\n",
       "      <td>5.6</td>\n",
       "      <td>1</td>\n",
       "    </tr>\n",
       "  </tbody>\n",
       "</table>\n",
       "</div>"
      ],
      "text/plain": [
       "    invoice_id  branch  city  customer_type  gender  unit_price  quantity  \\\n",
       "0  848-62-7243       0     2              0       1       24.89         9   \n",
       "1  583-41-4548       2     1              0       1       16.67         7   \n",
       "2  800-09-8606       0     2              1       0       87.37         5   \n",
       "3  283-26-5248       2     1              1       0       98.52        10   \n",
       "4  288-62-1085       0     2              1       1       38.54         5   \n",
       "\n",
       "   tax_5_percents      total  month  day  year  hours  minutes  payment  \\\n",
       "0         11.2005   235.2105      3   15  2019     15       36        0   \n",
       "1          5.8345   122.5245      2    7  2019     11       36        2   \n",
       "2         21.8425   458.6925      1   29  2019     19       45        0   \n",
       "3         49.2600  1034.4600      1   30  2019     20       23        2   \n",
       "4          9.6350   202.3350      1    9  2019     13       34        2   \n",
       "\n",
       "     cogs  gross_margin_percentage  gross_income  rating  product_line  \n",
       "0  224.01                 4.761905       11.2005     7.4             3  \n",
       "1  116.69                 4.761905        5.8345     7.4             4  \n",
       "2  436.85                 4.761905       21.8425     6.6             4  \n",
       "3  985.20                 4.761905       49.2600     4.5             2  \n",
       "4  192.70                 4.761905        9.6350     5.6             1  "
      ]
     },
     "execution_count": 4,
     "metadata": {},
     "output_type": "execute_result"
    }
   ],
   "source": [
    "train.head()"
   ]
  },
  {
   "cell_type": "markdown",
   "metadata": {},
   "source": [
    "## Test dataset"
   ]
  },
  {
   "cell_type": "code",
   "execution_count": 5,
   "metadata": {
    "ExecuteTime": {
     "end_time": "2021-03-10T12:07:03.980833Z",
     "start_time": "2021-03-10T12:07:03.968168Z"
    },
    "scrolled": true
   },
   "outputs": [
    {
     "name": "stdout",
     "output_type": "stream",
     "text": [
      "Number of row    : 200\n",
      "Number of column : 20\n"
     ]
    }
   ],
   "source": [
    "print(f'Number of row    : { test.shape[0] }')\n",
    "print(f'Number of column : { test.shape[1] }')"
   ]
  },
  {
   "cell_type": "code",
   "execution_count": 6,
   "metadata": {
    "ExecuteTime": {
     "end_time": "2021-03-10T12:07:04.026921Z",
     "start_time": "2021-03-10T12:07:03.984651Z"
    }
   },
   "outputs": [
    {
     "data": {
      "text/html": [
       "<div>\n",
       "<style scoped>\n",
       "    .dataframe tbody tr th:only-of-type {\n",
       "        vertical-align: middle;\n",
       "    }\n",
       "\n",
       "    .dataframe tbody tr th {\n",
       "        vertical-align: top;\n",
       "    }\n",
       "\n",
       "    .dataframe thead th {\n",
       "        text-align: right;\n",
       "    }\n",
       "</style>\n",
       "<table border=\"1\" class=\"dataframe\">\n",
       "  <thead>\n",
       "    <tr style=\"text-align: right;\">\n",
       "      <th></th>\n",
       "      <th>invoice_id</th>\n",
       "      <th>branch</th>\n",
       "      <th>city</th>\n",
       "      <th>customer_type</th>\n",
       "      <th>gender</th>\n",
       "      <th>unit_price</th>\n",
       "      <th>quantity</th>\n",
       "      <th>tax_5_percents</th>\n",
       "      <th>total</th>\n",
       "      <th>month</th>\n",
       "      <th>day</th>\n",
       "      <th>year</th>\n",
       "      <th>hours</th>\n",
       "      <th>minutes</th>\n",
       "      <th>payment</th>\n",
       "      <th>cogs</th>\n",
       "      <th>gross_margin_percentage</th>\n",
       "      <th>gross_income</th>\n",
       "      <th>rating</th>\n",
       "      <th>product_line</th>\n",
       "    </tr>\n",
       "  </thead>\n",
       "  <tbody>\n",
       "    <tr>\n",
       "      <th>0</th>\n",
       "      <td>451-28-5717</td>\n",
       "      <td>2</td>\n",
       "      <td>1</td>\n",
       "      <td>1</td>\n",
       "      <td>0</td>\n",
       "      <td>83.17</td>\n",
       "      <td>6</td>\n",
       "      <td>24.9510</td>\n",
       "      <td>523.9710</td>\n",
       "      <td>3</td>\n",
       "      <td>20</td>\n",
       "      <td>2019</td>\n",
       "      <td>11</td>\n",
       "      <td>23</td>\n",
       "      <td>0</td>\n",
       "      <td>499.02</td>\n",
       "      <td>4.761905</td>\n",
       "      <td>24.9510</td>\n",
       "      <td>7.3</td>\n",
       "      <td>4</td>\n",
       "    </tr>\n",
       "    <tr>\n",
       "      <th>1</th>\n",
       "      <td>137-63-5492</td>\n",
       "      <td>2</td>\n",
       "      <td>1</td>\n",
       "      <td>0</td>\n",
       "      <td>1</td>\n",
       "      <td>58.76</td>\n",
       "      <td>10</td>\n",
       "      <td>29.3800</td>\n",
       "      <td>616.9800</td>\n",
       "      <td>1</td>\n",
       "      <td>29</td>\n",
       "      <td>2019</td>\n",
       "      <td>14</td>\n",
       "      <td>26</td>\n",
       "      <td>2</td>\n",
       "      <td>587.60</td>\n",
       "      <td>4.761905</td>\n",
       "      <td>29.3800</td>\n",
       "      <td>9.0</td>\n",
       "      <td>0</td>\n",
       "    </tr>\n",
       "    <tr>\n",
       "      <th>2</th>\n",
       "      <td>733-29-1227</td>\n",
       "      <td>2</td>\n",
       "      <td>1</td>\n",
       "      <td>0</td>\n",
       "      <td>1</td>\n",
       "      <td>55.61</td>\n",
       "      <td>7</td>\n",
       "      <td>19.4635</td>\n",
       "      <td>408.7335</td>\n",
       "      <td>3</td>\n",
       "      <td>23</td>\n",
       "      <td>2019</td>\n",
       "      <td>12</td>\n",
       "      <td>41</td>\n",
       "      <td>0</td>\n",
       "      <td>389.27</td>\n",
       "      <td>4.761905</td>\n",
       "      <td>19.4635</td>\n",
       "      <td>8.5</td>\n",
       "      <td>4</td>\n",
       "    </tr>\n",
       "    <tr>\n",
       "      <th>3</th>\n",
       "      <td>322-02-2271</td>\n",
       "      <td>1</td>\n",
       "      <td>0</td>\n",
       "      <td>0</td>\n",
       "      <td>0</td>\n",
       "      <td>42.97</td>\n",
       "      <td>3</td>\n",
       "      <td>6.4455</td>\n",
       "      <td>135.3555</td>\n",
       "      <td>2</td>\n",
       "      <td>3</td>\n",
       "      <td>2019</td>\n",
       "      <td>11</td>\n",
       "      <td>46</td>\n",
       "      <td>0</td>\n",
       "      <td>128.91</td>\n",
       "      <td>4.761905</td>\n",
       "      <td>6.4455</td>\n",
       "      <td>9.3</td>\n",
       "      <td>5</td>\n",
       "    </tr>\n",
       "    <tr>\n",
       "      <th>4</th>\n",
       "      <td>569-71-4390</td>\n",
       "      <td>1</td>\n",
       "      <td>0</td>\n",
       "      <td>0</td>\n",
       "      <td>1</td>\n",
       "      <td>21.87</td>\n",
       "      <td>2</td>\n",
       "      <td>2.1870</td>\n",
       "      <td>45.9270</td>\n",
       "      <td>1</td>\n",
       "      <td>25</td>\n",
       "      <td>2019</td>\n",
       "      <td>14</td>\n",
       "      <td>29</td>\n",
       "      <td>2</td>\n",
       "      <td>43.74</td>\n",
       "      <td>4.761905</td>\n",
       "      <td>2.1870</td>\n",
       "      <td>6.9</td>\n",
       "      <td>5</td>\n",
       "    </tr>\n",
       "  </tbody>\n",
       "</table>\n",
       "</div>"
      ],
      "text/plain": [
       "    invoice_id  branch  city  customer_type  gender  unit_price  quantity  \\\n",
       "0  451-28-5717       2     1              1       0       83.17         6   \n",
       "1  137-63-5492       2     1              0       1       58.76        10   \n",
       "2  733-29-1227       2     1              0       1       55.61         7   \n",
       "3  322-02-2271       1     0              0       0       42.97         3   \n",
       "4  569-71-4390       1     0              0       1       21.87         2   \n",
       "\n",
       "   tax_5_percents     total  month  day  year  hours  minutes  payment  \\\n",
       "0         24.9510  523.9710      3   20  2019     11       23        0   \n",
       "1         29.3800  616.9800      1   29  2019     14       26        2   \n",
       "2         19.4635  408.7335      3   23  2019     12       41        0   \n",
       "3          6.4455  135.3555      2    3  2019     11       46        0   \n",
       "4          2.1870   45.9270      1   25  2019     14       29        2   \n",
       "\n",
       "     cogs  gross_margin_percentage  gross_income  rating  product_line  \n",
       "0  499.02                 4.761905       24.9510     7.3             4  \n",
       "1  587.60                 4.761905       29.3800     9.0             0  \n",
       "2  389.27                 4.761905       19.4635     8.5             4  \n",
       "3  128.91                 4.761905        6.4455     9.3             5  \n",
       "4   43.74                 4.761905        2.1870     6.9             5  "
      ]
     },
     "execution_count": 6,
     "metadata": {},
     "output_type": "execute_result"
    }
   ],
   "source": [
    "test.head()"
   ]
  },
  {
   "cell_type": "markdown",
   "metadata": {},
   "source": [
    "# Split dataset into train and test set"
   ]
  },
  {
   "cell_type": "markdown",
   "metadata": {},
   "source": [
    "## Train dataset"
   ]
  },
  {
   "cell_type": "code",
   "execution_count": 7,
   "metadata": {
    "ExecuteTime": {
     "end_time": "2021-03-10T12:07:04.057725Z",
     "start_time": "2021-03-10T12:07:04.033452Z"
    }
   },
   "outputs": [],
   "source": [
    "X_train = train.loc[:, ['branch', 'city', 'customer_type', 'gender', 'unit_price',\n",
    "                        'quantity', 'tax_5_percents', 'total', 'month', 'day', 'year', 'hours',\n",
    "                        'minutes', 'payment', 'cogs', 'gross_margin_percentage', 'gross_income',\n",
    "                        'rating',]\n",
    "                   ]\n",
    "\n",
    "y_train = train.iloc[:, 19:20]"
   ]
  },
  {
   "cell_type": "markdown",
   "metadata": {},
   "source": [
    "## Test dataset"
   ]
  },
  {
   "cell_type": "code",
   "execution_count": 8,
   "metadata": {
    "ExecuteTime": {
     "end_time": "2021-03-10T12:07:04.072961Z",
     "start_time": "2021-03-10T12:07:04.062015Z"
    }
   },
   "outputs": [],
   "source": [
    "X_test = test.loc[:, ['branch', 'city', 'customer_type', 'gender', 'unit_price',\n",
    "                      'quantity', 'tax_5_percents', 'total', 'month', 'day', 'year', 'hours',\n",
    "                      'minutes', 'payment', 'cogs', 'gross_margin_percentage', 'gross_income',\n",
    "                      'rating',]\n",
    "                 ]\n",
    "\n",
    "y_test = test.iloc[:, 19:20]"
   ]
  },
  {
   "cell_type": "markdown",
   "metadata": {},
   "source": [
    "# Create Model"
   ]
  },
  {
   "cell_type": "markdown",
   "metadata": {},
   "source": [
    "## Train model"
   ]
  },
  {
   "cell_type": "markdown",
   "metadata": {},
   "source": [
    "### Logistic Regression"
   ]
  },
  {
   "cell_type": "code",
   "execution_count": 9,
   "metadata": {
    "ExecuteTime": {
     "end_time": "2021-03-10T12:07:04.104348Z",
     "start_time": "2021-03-10T12:07:04.076961Z"
    }
   },
   "outputs": [],
   "source": [
    "# ovr_clf = OneVsRestClassifier(LogisticRegression(max_iter=1000, multi_class='ovr', solver='liblinear', random_state=42))\n",
    "# ovr_clf.fit(X_train, y_train)"
   ]
  },
  {
   "cell_type": "markdown",
   "metadata": {},
   "source": [
    "### Support Vector Classifier"
   ]
  },
  {
   "cell_type": "code",
   "execution_count": 10,
   "metadata": {
    "ExecuteTime": {
     "end_time": "2021-03-10T12:07:04.322608Z",
     "start_time": "2021-03-10T12:07:04.108353Z"
    }
   },
   "outputs": [
    {
     "data": {
      "text/plain": [
       "OneVsRestClassifier(estimator=SVC(gamma=0.001, random_state=42))"
      ]
     },
     "execution_count": 10,
     "metadata": {},
     "output_type": "execute_result"
    }
   ],
   "source": [
    "ovr_clf = OneVsRestClassifier(SVC(gamma=0.001, random_state=42))\n",
    "ovr_clf.fit(X_train, y_train)"
   ]
  },
  {
   "cell_type": "markdown",
   "metadata": {},
   "source": [
    "## Test model\n",
    "Hasil prediksi dari model tidak bagus"
   ]
  },
  {
   "cell_type": "markdown",
   "metadata": {
    "ExecuteTime": {
     "end_time": "2021-03-10T09:54:19.091889Z",
     "start_time": "2021-03-10T09:54:19.076298Z"
    }
   },
   "source": [
    "### Predicted"
   ]
  },
  {
   "cell_type": "code",
   "execution_count": 11,
   "metadata": {
    "ExecuteTime": {
     "end_time": "2021-03-10T12:07:04.387266Z",
     "start_time": "2021-03-10T12:07:04.324951Z"
    }
   },
   "outputs": [
    {
     "data": {
      "text/plain": [
       "array([2, 0, 2, 2, 0, 0, 3, 1, 3, 5, 1, 1, 4, 0, 1, 4, 0, 0, 0, 3, 2, 4,\n",
       "       1, 0, 5, 1, 4, 0, 5, 2, 3, 0, 5, 2, 0, 1, 0, 3, 2, 0, 0, 5, 0, 2,\n",
       "       1, 1, 0, 2, 4, 3, 3, 4, 5, 3, 2, 4, 0, 0, 5, 2, 0, 0, 0, 5, 1, 5,\n",
       "       5, 4, 2, 0, 1, 2, 0, 1, 1, 1, 2, 5, 0, 1, 1, 1, 3, 3, 5, 3, 0, 3,\n",
       "       5, 1, 2, 2, 2, 3, 3, 0, 0, 1, 4, 0, 3, 2, 2, 1, 1, 2, 5, 5, 2, 5,\n",
       "       5, 1, 5, 5, 1, 3, 0, 3, 5, 0, 4, 4, 2, 0, 2, 3, 2, 1, 3, 5, 2, 3,\n",
       "       1, 1, 2, 1, 2, 1, 1, 0, 0, 3, 3, 2, 1, 4, 5, 4, 1, 5, 0, 2, 5, 3,\n",
       "       3, 0, 1, 0, 2, 1, 0, 5, 3, 1, 4, 2, 2, 3, 2, 2, 4, 2, 0, 3, 0, 5,\n",
       "       0, 1, 4, 1, 5, 0, 4, 2, 1, 5, 5, 5, 0, 1, 4, 2, 0, 3, 3, 5, 4, 0,\n",
       "       0, 2], dtype=int64)"
      ]
     },
     "execution_count": 11,
     "metadata": {},
     "output_type": "execute_result"
    }
   ],
   "source": [
    "ovr_clf.predict(X_test.loc[:, :])"
   ]
  },
  {
   "cell_type": "markdown",
   "metadata": {},
   "source": [
    "### Actual"
   ]
  },
  {
   "cell_type": "code",
   "execution_count": 12,
   "metadata": {
    "ExecuteTime": {
     "end_time": "2021-03-10T12:07:04.402667Z",
     "start_time": "2021-03-10T12:07:04.389277Z"
    }
   },
   "outputs": [
    {
     "data": {
      "text/plain": [
       "array([4, 0, 4, 5, 5, 3, 5, 0, 2, 0, 0, 1, 3, 4, 3, 2, 4, 4, 0, 3, 0, 2,\n",
       "       1, 1, 0, 5, 1, 3, 3, 1, 0, 5, 2, 5, 0, 3, 4, 5, 4, 0, 3, 3, 2, 1,\n",
       "       4, 1, 5, 1, 0, 5, 4, 0, 1, 3, 0, 1, 0, 1, 2, 0, 0, 4, 5, 0, 1, 3,\n",
       "       1, 5, 2, 0, 5, 4, 3, 2, 0, 4, 4, 4, 3, 4, 2, 3, 1, 1, 3, 5, 4, 1,\n",
       "       4, 2, 2, 0, 4, 1, 3, 5, 3, 5, 5, 3, 1, 0, 3, 0, 3, 0, 0, 2, 2, 1,\n",
       "       2, 3, 1, 1, 1, 0, 5, 0, 4, 3, 1, 1, 3, 0, 1, 4, 1, 3, 3, 5, 4, 1,\n",
       "       5, 3, 5, 0, 0, 4, 4, 2, 3, 1, 5, 4, 0, 2, 3, 4, 5, 3, 2, 3, 2, 4,\n",
       "       1, 5, 1, 4, 5, 2, 3, 5, 0, 0, 3, 3, 4, 2, 0, 5, 2, 0, 5, 3, 1, 4,\n",
       "       4, 0, 1, 2, 1, 1, 5, 1, 0, 4, 2, 1, 4, 3, 4, 0, 0, 2, 5, 4, 1, 1,\n",
       "       5, 2], dtype=int64)"
      ]
     },
     "execution_count": 12,
     "metadata": {},
     "output_type": "execute_result"
    }
   ],
   "source": [
    "np.ravel(y_test)"
   ]
  },
  {
   "cell_type": "markdown",
   "metadata": {},
   "source": [
    "# Performance Measurement"
   ]
  },
  {
   "cell_type": "markdown",
   "metadata": {},
   "source": [
    "## Confusion Matrix"
   ]
  },
  {
   "cell_type": "code",
   "execution_count": 13,
   "metadata": {
    "ExecuteTime": {
     "end_time": "2021-03-10T12:07:04.859700Z",
     "start_time": "2021-03-10T12:07:04.405666Z"
    }
   },
   "outputs": [
    {
     "name": "stdout",
     "output_type": "stream",
     "text": [
      "True positive  : 43\n",
      "True negative  : 15\n",
      "False positive : 28\n",
      "False negative : 23\n"
     ]
    }
   ],
   "source": [
    "y_train_pred = cross_val_predict(ovr_clf, X_train, np.ravel(y_train), cv=3)\n",
    "print(f'True positive  : {confusion_matrix(np.ravel(y_train), y_train_pred)[1, 1]}')\n",
    "print(f'True negative  : {confusion_matrix(np.ravel(y_train), y_train_pred)[0, 0]}')\n",
    "print(f'False positive : {confusion_matrix(np.ravel(y_train), y_train_pred)[0, 1]}')\n",
    "print(f'False negative : {confusion_matrix(np.ravel(y_train), y_train_pred)[1, 0]}')"
   ]
  },
  {
   "cell_type": "markdown",
   "metadata": {},
   "source": [
    "## Accuracy Score"
   ]
  },
  {
   "cell_type": "code",
   "execution_count": 14,
   "metadata": {
    "ExecuteTime": {
     "end_time": "2021-03-10T12:07:04.953307Z",
     "start_time": "2021-03-10T12:07:04.866751Z"
    }
   },
   "outputs": [
    {
     "data": {
      "text/plain": [
       "0.14"
      ]
     },
     "execution_count": 14,
     "metadata": {},
     "output_type": "execute_result"
    }
   ],
   "source": [
    "accuracy_score(y_test, ovr_clf.predict(X_test))"
   ]
  },
  {
   "cell_type": "markdown",
   "metadata": {},
   "source": [
    "## Cross Validation Score"
   ]
  },
  {
   "cell_type": "code",
   "execution_count": 15,
   "metadata": {
    "ExecuteTime": {
     "end_time": "2021-03-10T12:07:05.511517Z",
     "start_time": "2021-03-10T12:07:04.956661Z"
    }
   },
   "outputs": [
    {
     "data": {
      "text/plain": [
       "array([0.16479401, 0.19101124, 0.15789474])"
      ]
     },
     "execution_count": 15,
     "metadata": {},
     "output_type": "execute_result"
    }
   ],
   "source": [
    "cross_val_score(ovr_clf, X_train, np.ravel(y_train), cv=3, scoring=\"accuracy\")"
   ]
  },
  {
   "cell_type": "markdown",
   "metadata": {},
   "source": [
    "## Precision"
   ]
  },
  {
   "cell_type": "code",
   "execution_count": 16,
   "metadata": {
    "ExecuteTime": {
     "end_time": "2021-03-10T12:07:05.915345Z",
     "start_time": "2021-03-10T12:07:05.514986Z"
    }
   },
   "outputs": [],
   "source": [
    "y_train_pred = cross_val_predict(ovr_clf, X_train, np.ravel(y_train), cv=3)"
   ]
  },
  {
   "cell_type": "markdown",
   "metadata": {},
   "source": [
    "\n",
    "- average = micro says the function to compute f1 by considering total true positives, false negatives and false positives (no matter of the prediction for each label in the dataset)\n",
    "- average = macro says the function to compute f1 for each label, and returns the average without considering the proportion for each label in the dataset.\n",
    "- average = weighted says the function to compute f1 for each label, and returns the average considering the proportion for each label in the dataset.\n",
    "- average = samples says the function to compute f1 for each instance, and returns the average. Use it for multilabel classification.\n"
   ]
  },
  {
   "cell_type": "code",
   "execution_count": 17,
   "metadata": {
    "ExecuteTime": {
     "end_time": "2021-03-10T12:07:05.931058Z",
     "start_time": "2021-03-10T12:07:05.920335Z"
    }
   },
   "outputs": [
    {
     "data": {
      "text/plain": [
       "0.16711327031080614"
      ]
     },
     "execution_count": 17,
     "metadata": {},
     "output_type": "execute_result"
    }
   ],
   "source": [
    "precision_score(np.ravel(y_train), y_train_pred, average='weighted')"
   ]
  },
  {
   "cell_type": "markdown",
   "metadata": {},
   "source": [
    "## Recall"
   ]
  },
  {
   "cell_type": "code",
   "execution_count": 18,
   "metadata": {
    "ExecuteTime": {
     "end_time": "2021-03-10T12:07:05.976996Z",
     "start_time": "2021-03-10T12:07:05.935565Z"
    }
   },
   "outputs": [
    {
     "data": {
      "text/plain": [
       "0.17125"
      ]
     },
     "execution_count": 18,
     "metadata": {},
     "output_type": "execute_result"
    }
   ],
   "source": [
    "recall_score(np.ravel(y_train), y_train_pred, average='weighted')"
   ]
  },
  {
   "cell_type": "markdown",
   "metadata": {},
   "source": [
    "## F-1 Score"
   ]
  },
  {
   "cell_type": "code",
   "execution_count": 19,
   "metadata": {
    "ExecuteTime": {
     "end_time": "2021-03-10T12:07:06.009137Z",
     "start_time": "2021-03-10T12:07:05.981724Z"
    }
   },
   "outputs": [
    {
     "data": {
      "text/plain": [
       "0.1683891189088838"
      ]
     },
     "execution_count": 19,
     "metadata": {},
     "output_type": "execute_result"
    }
   ],
   "source": [
    "f1_score(np.ravel(y_train), y_train_pred, average='weighted')"
   ]
  },
  {
   "cell_type": "markdown",
   "metadata": {},
   "source": [
    "## Classification Report"
   ]
  },
  {
   "cell_type": "code",
   "execution_count": 20,
   "metadata": {
    "ExecuteTime": {
     "end_time": "2021-03-10T12:07:06.119778Z",
     "start_time": "2021-03-10T12:07:06.013440Z"
    }
   },
   "outputs": [
    {
     "name": "stdout",
     "output_type": "stream",
     "text": [
      "              precision    recall  f1-score   support\n",
      "\n",
      "           0       0.20      0.24      0.22        38\n",
      "           1       0.16      0.16      0.16        38\n",
      "           2       0.11      0.16      0.13        25\n",
      "           3       0.17      0.14      0.16        35\n",
      "           4       0.11      0.06      0.08        34\n",
      "           5       0.06      0.07      0.07        30\n",
      "\n",
      "    accuracy                           0.14       200\n",
      "   macro avg       0.13      0.14      0.13       200\n",
      "weighted avg       0.14      0.14      0.14       200\n",
      "\n"
     ]
    }
   ],
   "source": [
    "print(classification_report(y_test, ovr_clf.predict(X_test)))"
   ]
  },
  {
   "cell_type": "markdown",
   "metadata": {},
   "source": [
    "# Note\n",
    "Kemungkinan penyebab akurasi, recall, presisi, dan F-1 score rendah, antara lain:\n",
    "- Jumlah dataset kurang, sekarang menggunakan 1000 cases.\n",
    "- Proporsi kelas pada train dan test tidak sama (Bukan penyebab, sudah dicek).\n",
    "- Hubungan antar fitur tidak kuat (bisa lihat heatmap correlation).\n",
    "- Srategi One versus Rest (OVR) menggunakan model ML SVC, tidak cocok dengan kasus dataset yang digunakan."
   ]
  }
 ],
 "metadata": {
  "celltoolbar": "Slideshow",
  "kernelspec": {
   "display_name": "Python 3",
   "language": "python",
   "name": "python3"
  },
  "language_info": {
   "codemirror_mode": {
    "name": "ipython",
    "version": 3
   },
   "file_extension": ".py",
   "mimetype": "text/x-python",
   "name": "python",
   "nbconvert_exporter": "python",
   "pygments_lexer": "ipython3",
   "version": "3.8.5"
  },
  "toc": {
   "base_numbering": 1,
   "nav_menu": {},
   "number_sections": true,
   "sideBar": true,
   "skip_h1_title": false,
   "title_cell": "Table of Contents",
   "title_sidebar": "Contents",
   "toc_cell": false,
   "toc_position": {
    "height": "calc(100% - 180px)",
    "left": "10px",
    "top": "150px",
    "width": "285.333px"
   },
   "toc_section_display": true,
   "toc_window_display": true
  }
 },
 "nbformat": 4,
 "nbformat_minor": 4
}
