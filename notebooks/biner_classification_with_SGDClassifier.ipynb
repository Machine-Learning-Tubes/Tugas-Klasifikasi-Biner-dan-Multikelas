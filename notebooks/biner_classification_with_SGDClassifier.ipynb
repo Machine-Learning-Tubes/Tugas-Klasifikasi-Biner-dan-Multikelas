{
 "cells": [
  {
   "cell_type": "markdown",
   "metadata": {
    "slideshow": {
     "slide_type": "slide"
    }
   },
   "source": [
    "# Import Modules"
   ]
  },
  {
   "cell_type": "code",
   "execution_count": 1,
   "metadata": {
    "ExecuteTime": {
     "end_time": "2021-03-09T15:16:18.059224Z",
     "start_time": "2021-03-09T15:16:15.640911Z"
    }
   },
   "outputs": [],
   "source": [
    "import numpy as np\n",
    "import pandas as pd\n",
    "import matplotlib.pyplot as plt\n",
    "\n",
    "from sklearn.linear_model import SGDClassifier\n",
    "from sklearn.model_selection import cross_val_score, cross_val_predict\n",
    "from sklearn.metrics import precision_score, recall_score, f1_score, roc_auc_score, confusion_matrix, precision_recall_curve, accuracy_score, classification_report"
   ]
  },
  {
   "cell_type": "markdown",
   "metadata": {
    "slideshow": {
     "slide_type": "slide"
    }
   },
   "source": [
    "# Initialize and load dataset"
   ]
  },
  {
   "cell_type": "code",
   "execution_count": 2,
   "metadata": {
    "ExecuteTime": {
     "end_time": "2021-03-09T15:16:18.109276Z",
     "start_time": "2021-03-09T15:16:18.069595Z"
    }
   },
   "outputs": [],
   "source": [
    "train = pd.read_csv('../dataset/biner_classification/train.csv')\n",
    "test  = pd.read_csv('../dataset/biner_classification/test.csv')"
   ]
  },
  {
   "cell_type": "markdown",
   "metadata": {
    "slideshow": {
     "slide_type": "subslide"
    }
   },
   "source": [
    "## Show in table"
   ]
  },
  {
   "cell_type": "code",
   "execution_count": 3,
   "metadata": {
    "ExecuteTime": {
     "end_time": "2021-03-09T15:16:18.156488Z",
     "start_time": "2021-03-09T15:16:18.124332Z"
    },
    "scrolled": true
   },
   "outputs": [
    {
     "data": {
      "text/html": [
       "<div>\n",
       "<style scoped>\n",
       "    .dataframe tbody tr th:only-of-type {\n",
       "        vertical-align: middle;\n",
       "    }\n",
       "\n",
       "    .dataframe tbody tr th {\n",
       "        vertical-align: top;\n",
       "    }\n",
       "\n",
       "    .dataframe thead th {\n",
       "        text-align: right;\n",
       "    }\n",
       "</style>\n",
       "<table border=\"1\" class=\"dataframe\">\n",
       "  <thead>\n",
       "    <tr style=\"text-align: right;\">\n",
       "      <th></th>\n",
       "      <th>invoice_id</th>\n",
       "      <th>branch</th>\n",
       "      <th>city</th>\n",
       "      <th>gender</th>\n",
       "      <th>product_line</th>\n",
       "      <th>unit_price</th>\n",
       "      <th>quantity</th>\n",
       "      <th>tax_5_percents</th>\n",
       "      <th>total</th>\n",
       "      <th>month</th>\n",
       "      <th>day</th>\n",
       "      <th>year</th>\n",
       "      <th>hours</th>\n",
       "      <th>minutes</th>\n",
       "      <th>payment</th>\n",
       "      <th>cogs</th>\n",
       "      <th>gross_margin_percentage</th>\n",
       "      <th>gross_income</th>\n",
       "      <th>rating</th>\n",
       "      <th>customer_type</th>\n",
       "    </tr>\n",
       "  </thead>\n",
       "  <tbody>\n",
       "    <tr>\n",
       "      <th>0</th>\n",
       "      <td>848-62-7243</td>\n",
       "      <td>0</td>\n",
       "      <td>2</td>\n",
       "      <td>1</td>\n",
       "      <td>3</td>\n",
       "      <td>24.89</td>\n",
       "      <td>9</td>\n",
       "      <td>11.2005</td>\n",
       "      <td>235.2105</td>\n",
       "      <td>3</td>\n",
       "      <td>15</td>\n",
       "      <td>2019</td>\n",
       "      <td>15</td>\n",
       "      <td>36</td>\n",
       "      <td>0</td>\n",
       "      <td>224.01</td>\n",
       "      <td>4.761905</td>\n",
       "      <td>11.2005</td>\n",
       "      <td>7.4</td>\n",
       "      <td>0</td>\n",
       "    </tr>\n",
       "    <tr>\n",
       "      <th>1</th>\n",
       "      <td>583-41-4548</td>\n",
       "      <td>2</td>\n",
       "      <td>1</td>\n",
       "      <td>1</td>\n",
       "      <td>4</td>\n",
       "      <td>16.67</td>\n",
       "      <td>7</td>\n",
       "      <td>5.8345</td>\n",
       "      <td>122.5245</td>\n",
       "      <td>2</td>\n",
       "      <td>7</td>\n",
       "      <td>2019</td>\n",
       "      <td>11</td>\n",
       "      <td>36</td>\n",
       "      <td>2</td>\n",
       "      <td>116.69</td>\n",
       "      <td>4.761905</td>\n",
       "      <td>5.8345</td>\n",
       "      <td>7.4</td>\n",
       "      <td>0</td>\n",
       "    </tr>\n",
       "    <tr>\n",
       "      <th>2</th>\n",
       "      <td>800-09-8606</td>\n",
       "      <td>0</td>\n",
       "      <td>2</td>\n",
       "      <td>0</td>\n",
       "      <td>4</td>\n",
       "      <td>87.37</td>\n",
       "      <td>5</td>\n",
       "      <td>21.8425</td>\n",
       "      <td>458.6925</td>\n",
       "      <td>1</td>\n",
       "      <td>29</td>\n",
       "      <td>2019</td>\n",
       "      <td>19</td>\n",
       "      <td>45</td>\n",
       "      <td>0</td>\n",
       "      <td>436.85</td>\n",
       "      <td>4.761905</td>\n",
       "      <td>21.8425</td>\n",
       "      <td>6.6</td>\n",
       "      <td>1</td>\n",
       "    </tr>\n",
       "    <tr>\n",
       "      <th>3</th>\n",
       "      <td>283-26-5248</td>\n",
       "      <td>2</td>\n",
       "      <td>1</td>\n",
       "      <td>0</td>\n",
       "      <td>2</td>\n",
       "      <td>98.52</td>\n",
       "      <td>10</td>\n",
       "      <td>49.2600</td>\n",
       "      <td>1034.4600</td>\n",
       "      <td>1</td>\n",
       "      <td>30</td>\n",
       "      <td>2019</td>\n",
       "      <td>20</td>\n",
       "      <td>23</td>\n",
       "      <td>2</td>\n",
       "      <td>985.20</td>\n",
       "      <td>4.761905</td>\n",
       "      <td>49.2600</td>\n",
       "      <td>4.5</td>\n",
       "      <td>1</td>\n",
       "    </tr>\n",
       "    <tr>\n",
       "      <th>4</th>\n",
       "      <td>288-62-1085</td>\n",
       "      <td>0</td>\n",
       "      <td>2</td>\n",
       "      <td>1</td>\n",
       "      <td>1</td>\n",
       "      <td>38.54</td>\n",
       "      <td>5</td>\n",
       "      <td>9.6350</td>\n",
       "      <td>202.3350</td>\n",
       "      <td>1</td>\n",
       "      <td>9</td>\n",
       "      <td>2019</td>\n",
       "      <td>13</td>\n",
       "      <td>34</td>\n",
       "      <td>2</td>\n",
       "      <td>192.70</td>\n",
       "      <td>4.761905</td>\n",
       "      <td>9.6350</td>\n",
       "      <td>5.6</td>\n",
       "      <td>1</td>\n",
       "    </tr>\n",
       "  </tbody>\n",
       "</table>\n",
       "</div>"
      ],
      "text/plain": [
       "    invoice_id  branch  city  gender  product_line  unit_price  quantity  \\\n",
       "0  848-62-7243       0     2       1             3       24.89         9   \n",
       "1  583-41-4548       2     1       1             4       16.67         7   \n",
       "2  800-09-8606       0     2       0             4       87.37         5   \n",
       "3  283-26-5248       2     1       0             2       98.52        10   \n",
       "4  288-62-1085       0     2       1             1       38.54         5   \n",
       "\n",
       "   tax_5_percents      total  month  day  year  hours  minutes  payment  \\\n",
       "0         11.2005   235.2105      3   15  2019     15       36        0   \n",
       "1          5.8345   122.5245      2    7  2019     11       36        2   \n",
       "2         21.8425   458.6925      1   29  2019     19       45        0   \n",
       "3         49.2600  1034.4600      1   30  2019     20       23        2   \n",
       "4          9.6350   202.3350      1    9  2019     13       34        2   \n",
       "\n",
       "     cogs  gross_margin_percentage  gross_income  rating  customer_type  \n",
       "0  224.01                 4.761905       11.2005     7.4              0  \n",
       "1  116.69                 4.761905        5.8345     7.4              0  \n",
       "2  436.85                 4.761905       21.8425     6.6              1  \n",
       "3  985.20                 4.761905       49.2600     4.5              1  \n",
       "4  192.70                 4.761905        9.6350     5.6              1  "
      ]
     },
     "execution_count": 3,
     "metadata": {},
     "output_type": "execute_result"
    }
   ],
   "source": [
    "train.head()"
   ]
  },
  {
   "cell_type": "markdown",
   "metadata": {
    "slideshow": {
     "slide_type": "subslide"
    }
   },
   "source": [
    "## Set feature and target to train and test dataset"
   ]
  },
  {
   "cell_type": "markdown",
   "metadata": {},
   "source": [
    "### Train dataset"
   ]
  },
  {
   "cell_type": "code",
   "execution_count": 4,
   "metadata": {
    "ExecuteTime": {
     "end_time": "2021-03-09T15:16:18.172531Z",
     "start_time": "2021-03-09T15:16:18.159457Z"
    }
   },
   "outputs": [],
   "source": [
    "X_train = train.loc[:, ['branch', 'city', 'gender', 'product_line', 'unit_price',\n",
    "                        'quantity', 'tax_5_percents', 'total', 'payment', 'cogs',\n",
    "                        'gross_margin_percentage', 'gross_income', 'rating', 'month',\n",
    "                        'day', 'year', 'hours', 'minutes']\n",
    "                   ]\n",
    "\n",
    "y_train = train.iloc[:, 19:20]"
   ]
  },
  {
   "cell_type": "markdown",
   "metadata": {
    "slideshow": {
     "slide_type": "subslide"
    }
   },
   "source": [
    "### Test dataset"
   ]
  },
  {
   "cell_type": "code",
   "execution_count": 5,
   "metadata": {
    "ExecuteTime": {
     "end_time": "2021-03-09T15:16:18.187772Z",
     "start_time": "2021-03-09T15:16:18.175533Z"
    }
   },
   "outputs": [],
   "source": [
    "X_test = test.loc[:, ['branch', 'city', 'gender', 'product_line', 'unit_price',\n",
    "                      'quantity', 'tax_5_percents', 'total', 'payment', 'cogs',\n",
    "                      'gross_margin_percentage', 'gross_income', 'rating', 'month',\n",
    "                      'day', 'year', 'hours', 'minutes']\n",
    "                 ]\n",
    "\n",
    "y_test = test.iloc[:, 19:20]"
   ]
  },
  {
   "cell_type": "code",
   "execution_count": 6,
   "metadata": {
    "ExecuteTime": {
     "end_time": "2021-03-09T15:16:18.219896Z",
     "start_time": "2021-03-09T15:16:18.194094Z"
    }
   },
   "outputs": [
    {
     "data": {
      "text/plain": [
       "(200, 18)"
      ]
     },
     "execution_count": 6,
     "metadata": {},
     "output_type": "execute_result"
    }
   ],
   "source": [
    "X_test.shape"
   ]
  },
  {
   "cell_type": "markdown",
   "metadata": {
    "slideshow": {
     "slide_type": "slide"
    }
   },
   "source": [
    "# Biner Classification with SGDClassifier "
   ]
  },
  {
   "cell_type": "markdown",
   "metadata": {},
   "source": [
    "## Prepare Model"
   ]
  },
  {
   "cell_type": "markdown",
   "metadata": {},
   "source": [
    "### Initialize parameter model"
   ]
  },
  {
   "cell_type": "code",
   "execution_count": 7,
   "metadata": {
    "ExecuteTime": {
     "end_time": "2021-03-09T15:16:18.235481Z",
     "start_time": "2021-03-09T15:16:18.222948Z"
    }
   },
   "outputs": [],
   "source": [
    "biner_classification = SGDClassifier(max_iter=1000, tol=0.001, alpha=0.001, random_state=42)"
   ]
  },
  {
   "cell_type": "markdown",
   "metadata": {},
   "source": [
    "### Train model"
   ]
  },
  {
   "cell_type": "code",
   "execution_count": 8,
   "metadata": {
    "ExecuteTime": {
     "end_time": "2021-03-09T15:16:18.283972Z",
     "start_time": "2021-03-09T15:16:18.238483Z"
    }
   },
   "outputs": [
    {
     "data": {
      "text/plain": [
       "SGDClassifier(alpha=0.001, random_state=42)"
      ]
     },
     "execution_count": 8,
     "metadata": {},
     "output_type": "execute_result"
    }
   ],
   "source": [
    "biner_classification.fit(X_train, np.ravel(y_train))"
   ]
  },
  {
   "cell_type": "markdown",
   "metadata": {},
   "source": [
    "### Accuracy Score"
   ]
  },
  {
   "cell_type": "code",
   "execution_count": 9,
   "metadata": {
    "ExecuteTime": {
     "end_time": "2021-03-09T15:16:18.333473Z",
     "start_time": "2021-03-09T15:16:18.293760Z"
    }
   },
   "outputs": [
    {
     "data": {
      "text/plain": [
       "0.505"
      ]
     },
     "execution_count": 9,
     "metadata": {},
     "output_type": "execute_result"
    }
   ],
   "source": [
    "accuracy_score(y_test, biner_classification.predict(X_test))"
   ]
  },
  {
   "cell_type": "code",
   "execution_count": 10,
   "metadata": {
    "ExecuteTime": {
     "end_time": "2021-03-09T15:16:18.366015Z",
     "start_time": "2021-03-09T15:16:18.337992Z"
    }
   },
   "outputs": [],
   "source": [
    "predicted = biner_classification.predict(X_test)"
   ]
  },
  {
   "cell_type": "markdown",
   "metadata": {},
   "source": [
    "## Use model for predict target class"
   ]
  },
  {
   "cell_type": "markdown",
   "metadata": {},
   "source": [
    "### Prediction with features"
   ]
  },
  {
   "cell_type": "code",
   "execution_count": 11,
   "metadata": {
    "ExecuteTime": {
     "end_time": "2021-03-09T15:16:18.412791Z",
     "start_time": "2021-03-09T15:16:18.370800Z"
    }
   },
   "outputs": [
    {
     "data": {
      "text/html": [
       "<div>\n",
       "<style scoped>\n",
       "    .dataframe tbody tr th:only-of-type {\n",
       "        vertical-align: middle;\n",
       "    }\n",
       "\n",
       "    .dataframe tbody tr th {\n",
       "        vertical-align: top;\n",
       "    }\n",
       "\n",
       "    .dataframe thead th {\n",
       "        text-align: right;\n",
       "    }\n",
       "</style>\n",
       "<table border=\"1\" class=\"dataframe\">\n",
       "  <thead>\n",
       "    <tr style=\"text-align: right;\">\n",
       "      <th></th>\n",
       "      <th>invoice_id</th>\n",
       "      <th>branch</th>\n",
       "      <th>city</th>\n",
       "      <th>gender</th>\n",
       "      <th>product_line</th>\n",
       "      <th>unit_price</th>\n",
       "      <th>quantity</th>\n",
       "      <th>tax_5_percents</th>\n",
       "      <th>total</th>\n",
       "      <th>month</th>\n",
       "      <th>day</th>\n",
       "      <th>year</th>\n",
       "      <th>hours</th>\n",
       "      <th>minutes</th>\n",
       "      <th>payment</th>\n",
       "      <th>cogs</th>\n",
       "      <th>gross_margin_percentage</th>\n",
       "      <th>gross_income</th>\n",
       "      <th>rating</th>\n",
       "      <th>customer_type</th>\n",
       "    </tr>\n",
       "  </thead>\n",
       "  <tbody>\n",
       "    <tr>\n",
       "      <th>0</th>\n",
       "      <td>848-62-7243</td>\n",
       "      <td>0</td>\n",
       "      <td>2</td>\n",
       "      <td>1</td>\n",
       "      <td>3</td>\n",
       "      <td>24.89</td>\n",
       "      <td>9</td>\n",
       "      <td>11.2005</td>\n",
       "      <td>235.2105</td>\n",
       "      <td>3</td>\n",
       "      <td>15</td>\n",
       "      <td>2019</td>\n",
       "      <td>15</td>\n",
       "      <td>36</td>\n",
       "      <td>0</td>\n",
       "      <td>224.01</td>\n",
       "      <td>4.761905</td>\n",
       "      <td>11.2005</td>\n",
       "      <td>7.4</td>\n",
       "      <td>0</td>\n",
       "    </tr>\n",
       "    <tr>\n",
       "      <th>1</th>\n",
       "      <td>583-41-4548</td>\n",
       "      <td>2</td>\n",
       "      <td>1</td>\n",
       "      <td>1</td>\n",
       "      <td>4</td>\n",
       "      <td>16.67</td>\n",
       "      <td>7</td>\n",
       "      <td>5.8345</td>\n",
       "      <td>122.5245</td>\n",
       "      <td>2</td>\n",
       "      <td>7</td>\n",
       "      <td>2019</td>\n",
       "      <td>11</td>\n",
       "      <td>36</td>\n",
       "      <td>2</td>\n",
       "      <td>116.69</td>\n",
       "      <td>4.761905</td>\n",
       "      <td>5.8345</td>\n",
       "      <td>7.4</td>\n",
       "      <td>0</td>\n",
       "    </tr>\n",
       "    <tr>\n",
       "      <th>2</th>\n",
       "      <td>800-09-8606</td>\n",
       "      <td>0</td>\n",
       "      <td>2</td>\n",
       "      <td>0</td>\n",
       "      <td>4</td>\n",
       "      <td>87.37</td>\n",
       "      <td>5</td>\n",
       "      <td>21.8425</td>\n",
       "      <td>458.6925</td>\n",
       "      <td>1</td>\n",
       "      <td>29</td>\n",
       "      <td>2019</td>\n",
       "      <td>19</td>\n",
       "      <td>45</td>\n",
       "      <td>0</td>\n",
       "      <td>436.85</td>\n",
       "      <td>4.761905</td>\n",
       "      <td>21.8425</td>\n",
       "      <td>6.6</td>\n",
       "      <td>1</td>\n",
       "    </tr>\n",
       "    <tr>\n",
       "      <th>3</th>\n",
       "      <td>283-26-5248</td>\n",
       "      <td>2</td>\n",
       "      <td>1</td>\n",
       "      <td>0</td>\n",
       "      <td>2</td>\n",
       "      <td>98.52</td>\n",
       "      <td>10</td>\n",
       "      <td>49.2600</td>\n",
       "      <td>1034.4600</td>\n",
       "      <td>1</td>\n",
       "      <td>30</td>\n",
       "      <td>2019</td>\n",
       "      <td>20</td>\n",
       "      <td>23</td>\n",
       "      <td>2</td>\n",
       "      <td>985.20</td>\n",
       "      <td>4.761905</td>\n",
       "      <td>49.2600</td>\n",
       "      <td>4.5</td>\n",
       "      <td>1</td>\n",
       "    </tr>\n",
       "    <tr>\n",
       "      <th>4</th>\n",
       "      <td>288-62-1085</td>\n",
       "      <td>0</td>\n",
       "      <td>2</td>\n",
       "      <td>1</td>\n",
       "      <td>1</td>\n",
       "      <td>38.54</td>\n",
       "      <td>5</td>\n",
       "      <td>9.6350</td>\n",
       "      <td>202.3350</td>\n",
       "      <td>1</td>\n",
       "      <td>9</td>\n",
       "      <td>2019</td>\n",
       "      <td>13</td>\n",
       "      <td>34</td>\n",
       "      <td>2</td>\n",
       "      <td>192.70</td>\n",
       "      <td>4.761905</td>\n",
       "      <td>9.6350</td>\n",
       "      <td>5.6</td>\n",
       "      <td>1</td>\n",
       "    </tr>\n",
       "  </tbody>\n",
       "</table>\n",
       "</div>"
      ],
      "text/plain": [
       "    invoice_id  branch  city  gender  product_line  unit_price  quantity  \\\n",
       "0  848-62-7243       0     2       1             3       24.89         9   \n",
       "1  583-41-4548       2     1       1             4       16.67         7   \n",
       "2  800-09-8606       0     2       0             4       87.37         5   \n",
       "3  283-26-5248       2     1       0             2       98.52        10   \n",
       "4  288-62-1085       0     2       1             1       38.54         5   \n",
       "\n",
       "   tax_5_percents      total  month  day  year  hours  minutes  payment  \\\n",
       "0         11.2005   235.2105      3   15  2019     15       36        0   \n",
       "1          5.8345   122.5245      2    7  2019     11       36        2   \n",
       "2         21.8425   458.6925      1   29  2019     19       45        0   \n",
       "3         49.2600  1034.4600      1   30  2019     20       23        2   \n",
       "4          9.6350   202.3350      1    9  2019     13       34        2   \n",
       "\n",
       "     cogs  gross_margin_percentage  gross_income  rating  customer_type  \n",
       "0  224.01                 4.761905       11.2005     7.4              0  \n",
       "1  116.69                 4.761905        5.8345     7.4              0  \n",
       "2  436.85                 4.761905       21.8425     6.6              1  \n",
       "3  985.20                 4.761905       49.2600     4.5              1  \n",
       "4  192.70                 4.761905        9.6350     5.6              1  "
      ]
     },
     "execution_count": 11,
     "metadata": {},
     "output_type": "execute_result"
    }
   ],
   "source": [
    "train.head()"
   ]
  },
  {
   "cell_type": "code",
   "execution_count": 12,
   "metadata": {
    "ExecuteTime": {
     "end_time": "2021-03-09T15:16:18.443378Z",
     "start_time": "2021-03-09T15:16:18.414858Z"
    }
   },
   "outputs": [
    {
     "data": {
      "text/plain": [
       "array([1], dtype=int64)"
      ]
     },
     "execution_count": 12,
     "metadata": {},
     "output_type": "execute_result"
    }
   ],
   "source": [
    "branch                  = 0\n",
    "city                    = 2\n",
    "gender                  = 1\n",
    "product_line            = 3\n",
    "unit_price              = 24.89\n",
    "quantity                = 9\n",
    "tax_5_percents          = 11.2005\n",
    "total                   = 235.2105\n",
    "payment                 = 0\n",
    "cogs                    = 224.01\n",
    "gross_margin_percentage = 4.761905\n",
    "gross_income            = 11.2005\n",
    "rating                  = 7.4\n",
    "month                   = 3\n",
    "day                     = 15\n",
    "year                    = 2019\n",
    "hours                   = 15\n",
    "minutes                 = 36\n",
    "\n",
    "biner_classification.predict([[branch, city, gender, product_line, unit_price, quantity, tax_5_percents, total, payment, cogs, gross_margin_percentage, gross_income, rating, month, day, year, hours, minutes]])"
   ]
  },
  {
   "cell_type": "markdown",
   "metadata": {},
   "source": [
    "### Train with 3-Folds Cross Validation"
   ]
  },
  {
   "cell_type": "code",
   "execution_count": 13,
   "metadata": {
    "ExecuteTime": {
     "end_time": "2021-03-09T15:16:18.508891Z",
     "start_time": "2021-03-09T15:16:18.446662Z"
    }
   },
   "outputs": [
    {
     "data": {
      "text/plain": [
       "array([0.50561798, 0.51310861, 0.47744361])"
      ]
     },
     "execution_count": 13,
     "metadata": {},
     "output_type": "execute_result"
    }
   ],
   "source": [
    "cross_val_score(biner_classification, X_train, np.ravel(y_train), cv=3, scoring=\"accuracy\")"
   ]
  },
  {
   "cell_type": "markdown",
   "metadata": {
    "slideshow": {
     "slide_type": "slide"
    }
   },
   "source": [
    "# Evaluate with Precision, Recall, & F1-Measure"
   ]
  },
  {
   "cell_type": "markdown",
   "metadata": {},
   "source": [
    "## Confusion Matrix"
   ]
  },
  {
   "cell_type": "code",
   "execution_count": 14,
   "metadata": {
    "ExecuteTime": {
     "end_time": "2021-03-09T15:16:18.573575Z",
     "start_time": "2021-03-09T15:16:18.513189Z"
    }
   },
   "outputs": [
    {
     "name": "stdout",
     "output_type": "stream",
     "text": [
      "True positive  : 374\n",
      "True negative  : 25\n",
      "False positive : 371\n",
      "False negative : 30\n"
     ]
    }
   ],
   "source": [
    "y_train_pred = cross_val_predict(biner_classification, X_train, np.ravel(y_train), cv=3)\n",
    "print(f'True positive  : {confusion_matrix(np.ravel(y_train), y_train_pred)[1, 1]}')\n",
    "print(f'True negative  : {confusion_matrix(np.ravel(y_train), y_train_pred)[0, 0]}')\n",
    "print(f'False positive : {confusion_matrix(np.ravel(y_train), y_train_pred)[0, 1]}')\n",
    "print(f'False negative : {confusion_matrix(np.ravel(y_train), y_train_pred)[1, 0]}')"
   ]
  },
  {
   "cell_type": "markdown",
   "metadata": {},
   "source": [
    "## Precision"
   ]
  },
  {
   "cell_type": "code",
   "execution_count": 15,
   "metadata": {
    "ExecuteTime": {
     "end_time": "2021-03-09T15:16:18.588873Z",
     "start_time": "2021-03-09T15:16:18.576781Z"
    }
   },
   "outputs": [
    {
     "name": "stdout",
     "output_type": "stream",
     "text": [
      "Precision: 50.2%\n"
     ]
    }
   ],
   "source": [
    "print(f'Precision: {round(precision_score(np.ravel(y_train), y_train_pred) * 100, 2)}%')"
   ]
  },
  {
   "cell_type": "markdown",
   "metadata": {
    "ExecuteTime": {
     "end_time": "2021-03-06T13:51:06.555504Z",
     "start_time": "2021-03-06T13:51:06.539884Z"
    }
   },
   "source": [
    "## Recall"
   ]
  },
  {
   "cell_type": "code",
   "execution_count": 16,
   "metadata": {
    "ExecuteTime": {
     "end_time": "2021-03-09T15:16:18.604192Z",
     "start_time": "2021-03-09T15:16:18.591418Z"
    }
   },
   "outputs": [
    {
     "name": "stdout",
     "output_type": "stream",
     "text": [
      "Recall: 92.57%\n"
     ]
    }
   ],
   "source": [
    "print(f'Recall: {round(recall_score(np.ravel(y_train), y_train_pred) * 100, 2)}%')"
   ]
  },
  {
   "cell_type": "markdown",
   "metadata": {},
   "source": [
    "## F-1 Score"
   ]
  },
  {
   "cell_type": "code",
   "execution_count": 17,
   "metadata": {
    "ExecuteTime": {
     "end_time": "2021-03-09T15:16:18.635033Z",
     "start_time": "2021-03-09T15:16:18.608192Z"
    }
   },
   "outputs": [
    {
     "name": "stdout",
     "output_type": "stream",
     "text": [
      "F-1 Score: 65.1%\n"
     ]
    }
   ],
   "source": [
    "print(f'F-1 Score: {round(f1_score(np.ravel(y_train), y_train_pred) * 100, 2)}%')"
   ]
  },
  {
   "cell_type": "markdown",
   "metadata": {},
   "source": [
    "## Classification Report"
   ]
  },
  {
   "cell_type": "code",
   "execution_count": 18,
   "metadata": {
    "ExecuteTime": {
     "end_time": "2021-03-09T15:16:18.650873Z",
     "start_time": "2021-03-09T15:16:18.637161Z"
    }
   },
   "outputs": [
    {
     "name": "stdout",
     "output_type": "stream",
     "text": [
      "              precision    recall  f1-score   support\n",
      "\n",
      "           0       0.83      0.05      0.09       103\n",
      "           1       0.49      0.99      0.66        97\n",
      "\n",
      "    accuracy                           0.51       200\n",
      "   macro avg       0.66      0.52      0.38       200\n",
      "weighted avg       0.67      0.51      0.37       200\n",
      "\n"
     ]
    }
   ],
   "source": [
    "print(classification_report(y_test, predicted))"
   ]
  },
  {
   "cell_type": "markdown",
   "metadata": {
    "slideshow": {
     "slide_type": "slide"
    }
   },
   "source": [
    "# Precision-Recall Tradeoff"
   ]
  },
  {
   "cell_type": "markdown",
   "metadata": {},
   "source": [
    "## Precision Recall VS Threshold Plot"
   ]
  },
  {
   "cell_type": "code",
   "execution_count": 19,
   "metadata": {
    "ExecuteTime": {
     "end_time": "2021-03-09T15:16:18.712654Z",
     "start_time": "2021-03-09T15:16:18.653348Z"
    }
   },
   "outputs": [],
   "source": [
    "y_scores = cross_val_predict(biner_classification, X_train, np.ravel(y_train), cv=3, method=\"decision_function\")"
   ]
  },
  {
   "cell_type": "code",
   "execution_count": 20,
   "metadata": {
    "ExecuteTime": {
     "end_time": "2021-03-09T15:16:18.728109Z",
     "start_time": "2021-03-09T15:16:18.716685Z"
    }
   },
   "outputs": [],
   "source": [
    "precisions, recalls, thresholds = precision_recall_curve(y_train, y_scores)"
   ]
  },
  {
   "cell_type": "code",
   "execution_count": 21,
   "metadata": {
    "ExecuteTime": {
     "end_time": "2021-03-09T15:16:19.026266Z",
     "start_time": "2021-03-09T15:16:18.733788Z"
    }
   },
   "outputs": [
    {
     "data": {
      "image/png": "[encoded data removed]",
      "text/plain": [
       "<Figure size 576x288 with 1 Axes>"
      ]
     },
     "metadata": {
      "needs_background": "light"
     },
     "output_type": "display_data"
    }
   ],
   "source": [
    "def plot_precision_recall_vs_threshold(precisions, recalls, thresholds):\n",
    "    plt.plot(thresholds, precisions[:-1], \"b--\", label=\"Precision\", linewidth=2)\n",
    "    plt.plot(thresholds, recalls[:-1], \"g-\", label=\"Recall\", linewidth=2)\n",
    "    plt.legend(loc=\"center right\", fontsize=16) # Not shown in the book\n",
    "    plt.xlabel(\"Threshold\")        # Not shown\n",
    "    plt.ylabel('Percentage in Percent')\n",
    "    plt.grid(True)                              # Not shown\n",
    "    plt.axis([-50000, 50000, 0, 1])             # Not shown\n",
    "\n",
    "plt.figure(figsize=(8, 4))                      # Not shown\n",
    "plt.title('Precision Recall VS Threshold Plot')\n",
    "plot_precision_recall_vs_threshold(precisions, recalls, thresholds)\n",
    "plt.plot([7813, 7813], [0., 0.9], \"r:\")         # Not shown\n",
    "plt.plot([-50000, 7813], [0.9, 0.9], \"r:\")      # Not shown\n",
    "plt.plot([-50000, 7813], [0.4368, 0.4368], \"r:\")# Not shown\n",
    "plt.plot([7813], [0.9], \"ro\")                   # Not shown\n",
    "plt.plot([7813], [0.4368], \"ro\")                # Not shown\n",
    "\n",
    "plt.show()"
   ]
  },
  {
   "cell_type": "markdown",
   "metadata": {
    "ExecuteTime": {
     "end_time": "2021-03-07T03:25:43.987774Z",
     "start_time": "2021-03-07T03:25:43.967532Z"
    }
   },
   "source": [
    "## Precision and Recall Plot"
   ]
  },
  {
   "cell_type": "code",
   "execution_count": 22,
   "metadata": {
    "ExecuteTime": {
     "end_time": "2021-03-09T15:16:19.242542Z",
     "start_time": "2021-03-09T15:16:19.034262Z"
    }
   },
   "outputs": [
    {
     "data": {
      "image/png": "[encoded data removed]",
      "text/plain": [
       "<Figure size 576x432 with 1 Axes>"
      ]
     },
     "metadata": {
      "needs_background": "light"
     },
     "output_type": "display_data"
    }
   ],
   "source": [
    "def plot_precision_vs_recall(precisions, recalls):\n",
    "    plt.plot(recalls, precisions, \"b-\", linewidth=2)\n",
    "    plt.title('Precision and Recall Plot')\n",
    "    plt.xlabel(\"Recall\")\n",
    "    plt.ylabel(\"Precision\")\n",
    "    plt.axis([0, 1, 0, 1])\n",
    "    plt.grid(True)\n",
    "\n",
    "plt.figure(figsize=(8, 6))\n",
    "plot_precision_vs_recall(precisions, recalls)\n",
    "plt.plot([0.4368, 0.4368], [0., 0.9], \"r:\")\n",
    "plt.plot([0.0, 0.4368], [0.9, 0.9], \"r:\")\n",
    "plt.plot([0.4368], [0.9], \"ro\")\n",
    "plt.show()"
   ]
  },
  {
   "cell_type": "markdown",
   "metadata": {},
   "source": [
    "## ROC Curve"
   ]
  },
  {
   "cell_type": "code",
   "execution_count": 23,
   "metadata": {
    "ExecuteTime": {
     "end_time": "2021-03-09T15:16:19.258015Z",
     "start_time": "2021-03-09T15:16:19.248189Z"
    }
   },
   "outputs": [],
   "source": [
    "from sklearn.metrics import roc_curve\n",
    "\n",
    "fpr, tpr, thresholds = roc_curve(y_train, y_scores)"
   ]
  },
  {
   "cell_type": "code",
   "execution_count": 24,
   "metadata": {
    "ExecuteTime": {
     "end_time": "2021-03-09T15:16:19.457790Z",
     "start_time": "2021-03-09T15:16:19.264404Z"
    }
   },
   "outputs": [
    {
     "data": {
      "image/png": "[encoded data removed]",
      "text/plain": [
       "<Figure size 576x432 with 1 Axes>"
      ]
     },
     "metadata": {
      "needs_background": "light"
     },
     "output_type": "display_data"
    }
   ],
   "source": [
    "def plot_roc_curve(fpr, tpr, label=None):\n",
    "    plt.plot(fpr, tpr, linewidth=2, label=label)\n",
    "    plt.plot([0, 1], [0, 1], 'k--')\n",
    "    plt.axis([0, 1, 0, 1])\n",
    "    plt.xlabel('False Positive Rate (Fall-Out)')\n",
    "    plt.ylabel('True Positive Rate (Recall)')\n",
    "    plt.grid(True)\n",
    "\n",
    "plt.figure(figsize=(8, 6))\n",
    "plot_roc_curve(fpr, tpr)\n",
    "plt.plot([4.837e-3, 4.837e-3], [0., 0.4368], \"r:\")\n",
    "plt.plot([0.0, 4.837e-3], [0.4368, 0.4368], \"r:\")\n",
    "plt.plot([4.837e-3], [0.4368], \"ro\")\n",
    "plt.show()"
   ]
  },
  {
   "cell_type": "code",
   "execution_count": 25,
   "metadata": {
    "ExecuteTime": {
     "end_time": "2021-03-09T15:16:19.475570Z",
     "start_time": "2021-03-09T15:16:19.460884Z"
    }
   },
   "outputs": [
    {
     "data": {
      "text/plain": [
       "0.5008688368836884"
      ]
     },
     "execution_count": 25,
     "metadata": {},
     "output_type": "execute_result"
    }
   ],
   "source": [
    "roc_auc_score(y_train, y_scores)"
   ]
  },
  {
   "cell_type": "markdown",
   "metadata": {
    "slideshow": {
     "slide_type": "slide"
    }
   },
   "source": [
    "# Notes\n",
    "Kemungkinan penyebab akurasi, recall, presisi, dan F-1 score rendah, antara lain:\n",
    "- Jumlah dataset kurang, sekarang menggunakan 1000 cases\n",
    "- Jumlah fitur yang kurang (recall naik, setelah fitur date dan time di encoder label)\n",
    "- Proporsi kelas pada train dan test tidak sama (Bukan penyebab, sudah dicek)\n",
    "- Hubungan antar fitur tidak kuat (bisa lihat heatmap correlation)\n"
   ]
  }
 ],
 "metadata": {
  "celltoolbar": "Slideshow",
  "kernelspec": {
   "display_name": "Python 3",
   "language": "python",
   "name": "python3"
  },
  "language_info": {
   "codemirror_mode": {
    "name": "ipython",
    "version": 3
   },
   "file_extension": ".py",
   "mimetype": "text/x-python",
   "name": "python",
   "nbconvert_exporter": "python",
   "pygments_lexer": "ipython3",
   "version": "3.8.5"
  },
  "toc": {
   "base_numbering": 1,
   "nav_menu": {},
   "number_sections": true,
   "sideBar": true,
   "skip_h1_title": false,
   "title_cell": "Table of Contents",
   "title_sidebar": "Contents",
   "toc_cell": false,
   "toc_position": {
    "height": "calc(100% - 180px)",
    "left": "10px",
    "top": "150px",
    "width": "269.667px"
   },
   "toc_section_display": true,
   "toc_window_display": true
  }
 },
 "nbformat": 4,
 "nbformat_minor": 4
}
